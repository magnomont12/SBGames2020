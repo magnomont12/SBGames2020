{
  "nbformat": 4,
  "nbformat_minor": 0,
  "metadata": {
    "colab": {
      "name": "Experimento6Attribs.ipynb",
      "provenance": [],
      "collapsed_sections": []
    },
    "kernelspec": {
      "name": "python3",
      "display_name": "Python 3"
    }
  },
  "cells": [
    {
      "cell_type": "code",
      "metadata": {
        "id": "AmtQaI9If_jZ",
        "colab": {
          "base_uri": "https://localhost:8080/"
        },
        "outputId": "584e117b-ca32-4bdf-dd3d-23dacfb5e94d"
      },
      "source": [
        "pip install jmetalpy"
      ],
      "execution_count": 1,
      "outputs": [
        {
          "output_type": "stream",
          "text": [
            "Collecting jmetalpy\n",
            "  Downloading jmetalpy-1.5.5.tar.gz (110 kB)\n",
            "\u001b[?25l\r\u001b[K     |███                             | 10 kB 22.2 MB/s eta 0:00:01\r\u001b[K     |██████                          | 20 kB 28.7 MB/s eta 0:00:01\r\u001b[K     |█████████                       | 30 kB 13.3 MB/s eta 0:00:01\r\u001b[K     |████████████                    | 40 kB 9.6 MB/s eta 0:00:01\r\u001b[K     |██████████████▉                 | 51 kB 5.4 MB/s eta 0:00:01\r\u001b[K     |█████████████████▉              | 61 kB 6.0 MB/s eta 0:00:01\r\u001b[K     |████████████████████▉           | 71 kB 5.7 MB/s eta 0:00:01\r\u001b[K     |███████████████████████▉        | 81 kB 6.3 MB/s eta 0:00:01\r\u001b[K     |██████████████████████████▉     | 92 kB 4.8 MB/s eta 0:00:01\r\u001b[K     |█████████████████████████████▊  | 102 kB 5.3 MB/s eta 0:00:01\r\u001b[K     |████████████████████████████████| 110 kB 5.3 MB/s \n",
            "\u001b[?25hRequirement already satisfied: tqdm in /usr/local/lib/python3.7/dist-packages (from jmetalpy) (4.62.0)\n",
            "Requirement already satisfied: numpy>=1.16.0 in /usr/local/lib/python3.7/dist-packages (from jmetalpy) (1.19.5)\n",
            "Requirement already satisfied: pandas>=0.24.2 in /usr/local/lib/python3.7/dist-packages (from jmetalpy) (1.1.5)\n",
            "Requirement already satisfied: plotly>=3.3.0 in /usr/local/lib/python3.7/dist-packages (from jmetalpy) (4.4.1)\n",
            "Requirement already satisfied: matplotlib>=3.0.2 in /usr/local/lib/python3.7/dist-packages (from jmetalpy) (3.2.2)\n",
            "Requirement already satisfied: scipy>=1.3.0 in /usr/local/lib/python3.7/dist-packages (from jmetalpy) (1.4.1)\n",
            "Requirement already satisfied: statsmodels>=0.9.0 in /usr/local/lib/python3.7/dist-packages (from jmetalpy) (0.10.2)\n",
            "Requirement already satisfied: python-dateutil>=2.1 in /usr/local/lib/python3.7/dist-packages (from matplotlib>=3.0.2->jmetalpy) (2.8.2)\n",
            "Requirement already satisfied: pyparsing!=2.0.4,!=2.1.2,!=2.1.6,>=2.0.1 in /usr/local/lib/python3.7/dist-packages (from matplotlib>=3.0.2->jmetalpy) (2.4.7)\n",
            "Requirement already satisfied: kiwisolver>=1.0.1 in /usr/local/lib/python3.7/dist-packages (from matplotlib>=3.0.2->jmetalpy) (1.3.1)\n",
            "Requirement already satisfied: cycler>=0.10 in /usr/local/lib/python3.7/dist-packages (from matplotlib>=3.0.2->jmetalpy) (0.10.0)\n",
            "Requirement already satisfied: six in /usr/local/lib/python3.7/dist-packages (from cycler>=0.10->matplotlib>=3.0.2->jmetalpy) (1.15.0)\n",
            "Requirement already satisfied: pytz>=2017.2 in /usr/local/lib/python3.7/dist-packages (from pandas>=0.24.2->jmetalpy) (2018.9)\n",
            "Requirement already satisfied: retrying>=1.3.3 in /usr/local/lib/python3.7/dist-packages (from plotly>=3.3.0->jmetalpy) (1.3.3)\n",
            "Requirement already satisfied: patsy>=0.4.0 in /usr/local/lib/python3.7/dist-packages (from statsmodels>=0.9.0->jmetalpy) (0.5.1)\n",
            "Building wheels for collected packages: jmetalpy\n",
            "  Building wheel for jmetalpy (setup.py) ... \u001b[?25l\u001b[?25hdone\n",
            "  Created wheel for jmetalpy: filename=jmetalpy-1.5.5-py3-none-any.whl size=196212 sha256=4024f4f0d4cf138c556be7c3e3aef75470d12a185e9f67a024f308e0667d7dbd\n",
            "  Stored in directory: /root/.cache/pip/wheels/ca/8a/fd/c7b0b43039ee307e366569834484b5aa51ff81d609288dfcd2\n",
            "Successfully built jmetalpy\n",
            "Installing collected packages: jmetalpy\n",
            "Successfully installed jmetalpy-1.5.5\n"
          ],
          "name": "stdout"
        }
      ]
    },
    {
      "cell_type": "markdown",
      "metadata": {
        "id": "GMW8-ycj4uXb"
      },
      "source": [
        "Simulação"
      ]
    },
    {
      "cell_type": "code",
      "metadata": {
        "id": "P7ECt9z1gCRq"
      },
      "source": [
        "import random\n",
        "\n",
        "VARIATION = 20\n",
        "\n",
        "# order: Hp, Atk, Def, Agi, Esqv, Crit\n",
        "\n",
        "def calcInitiative(agiPlayer, agiMonster):\n",
        "    speedPlayer = agiPlayer + random.randrange(int(5+agiPlayer/4))\n",
        "    speedMonster = agiMonster + random.randrange(int(5+agiMonster/4))\n",
        "    return speedPlayer > speedMonster\n",
        "\n",
        "def calcDano(atq_Atacante, def_Defensor, variation, taxaCritico):\n",
        "    damage = 4*atq_Atacante - 2*def_Defensor\n",
        "    newDamage = damage + ((random.uniform(0,0.4) - 0.2) * damage)\n",
        "    if (random.randrange(0,100) < taxaCritico):\n",
        "        return 3 * newDamage\n",
        "    return newDamage\n",
        "    \n",
        "def calcEsquiva(taxaEvasao):\n",
        "    return random.randrange(0,100) < taxaEvasao\n",
        "\n",
        "# order: Hp, Atk, Def, Agi, Esqv, Crit\n",
        "def Batalha(Player: list, Monster: list):\n",
        "  player = Player.copy()\n",
        "  monster = Monster.copy()\n",
        "  player = [int(elem) for elem in player]\n",
        "  monster =[int(elem) for elem in monster]\n",
        "  lifePlayer = player[0]\n",
        "  lifeMonster = monster[0]\n",
        "  while True:\n",
        "    if (calcInitiative(player[3], monster[3])):\n",
        "      if (not calcEsquiva(monster[4])):\n",
        "        #print(f'A vida do monstro era {lifeMonster}')\n",
        "        danoPlayer = calcDano(player[1], monster[2], VARIATION ,player[5])\n",
        "        lifeMonster -= danoPlayer\n",
        "        #print(f'O Jogador começou e teve um dano de {danoPlayer}, o monstro ficou com {lifeMonster}')\n",
        "        if lifeMonster <= 0:\n",
        "          return True\n",
        "      if (not calcEsquiva(player[4])):\n",
        "        #print(f'A vida do jogador era {lifePlayer}')\n",
        "        danoMonster = calcDano(monster[1], player[2], VARIATION, monster[5])\n",
        "        lifePlayer -= danoMonster\n",
        "        #print(f'O Jogador começou e o monstro deu dano de {danoMonster}, o player ficou com {lifePlayer}')\n",
        "        if lifePlayer <= 0:\n",
        "          return False\n",
        "    else:\n",
        "      if (not calcEsquiva(player[4])):\n",
        "        #print(f'A vida do Player era {lifePlayer}')\n",
        "        danoMonster = calcDano(monster[1], player[2], VARIATION, monster[5])\n",
        "        lifePlayer -= danoMonster\n",
        "        #print(f'O Monstro começou e teve um dano de {danoMonster}, o player ficou com {lifePlayer}')\n",
        "        if lifePlayer <= 0:\n",
        "          return False\n",
        "      if (not calcEsquiva(monster[4])):\n",
        "        #print(f'A vida do monster era {lifeMonster}')\n",
        "        danoPlayer = calcDano(player[1], monster[2], VARIATION ,player[5])\n",
        "        lifeMonster -= danoPlayer\n",
        "        #print(f'O Monstro começou e o jogador deu dano de {danoPlayer}, o monstro ficou com {lifeMonster}')\n",
        "        if lifeMonster <= 0:\n",
        "          return True\n",
        "\n",
        "def SimulateBattles(player: list, monster: list, numSims: int) -> float:\n",
        "  playerWins = 0\n",
        "  for a in range(0, numSims):\n",
        "    if (Batalha(player, monster)):\n",
        "      playerWins += 1\n",
        "  return playerWins/numSims \n"
      ],
      "execution_count": 2,
      "outputs": []
    },
    {
      "cell_type": "code",
      "metadata": {
        "id": "hrXEX88uzqtu"
      },
      "source": [
        "def constraints(monster: list, monsterProx: list, player: list, first: bool):\n",
        "  if first:\n",
        "    return [[int(monster[0]*0.5), int((monster[1]/2)) + 1, int(monster[2]*0.5), int(monster[3]*0.5), int(monster[4]*0.5), int(monster[5]*0.5) ], [int(monsterProx[0]), int(monsterProx[1]), int(2*monsterProx[1]) -1, int(monsterProx[3]), int(monsterProx[4]), int(monsterProx[5])]]\n",
        "  else:\n",
        "    return [[player[0], player[1], player[2], player[3], player[4], player[5] ], [int(monsterProx[0]), int(monsterProx[1]), int(2*monsterProx[1]) -1, int(monsterProx[3]), int(monsterProx[4]), int(monsterProx[5])] ]\n",
        "\n",
        "#constraints([100,20,35], [987, 79, 57], [153, 24, 22], False )"
      ],
      "execution_count": 3,
      "outputs": []
    },
    {
      "cell_type": "markdown",
      "metadata": {
        "id": "YSOWZ8m540G4"
      },
      "source": [
        "Problema"
      ]
    },
    {
      "cell_type": "code",
      "metadata": {
        "id": "8ux32lo0NNTw"
      },
      "source": [
        "from jmetal.core.quality_indicator import QualityIndicator\n",
        "from jmetal.core.problem import FloatProblem\n",
        "from jmetal.core.problem import FloatSolution\n",
        "import random\n",
        "class FitnessObjective(QualityIndicator):\n",
        "    def __init__(self, is_minimization: bool = True):\n",
        "        super(FitnessObjective, self).__init__(is_minimization=is_minimization)\n",
        "\n",
        "    def compute(self, solution: FloatSolution) -> float:\n",
        "        #print(solution.objectives[0] * (1 if self.is_minimization else -1))\n",
        "        print(solution)\n",
        "        return solution.objectives[0] * (1 if self.is_minimization else -1)\n",
        "\n",
        "    def get_name(self) -> str:\n",
        "        return 'Fitness'\n",
        "\n",
        "    def get_short_name(self) -> str:\n",
        "        return 'Fitness'"
      ],
      "execution_count": 4,
      "outputs": []
    },
    {
      "cell_type": "code",
      "metadata": {
        "id": "YYBmTDn3Pzjp"
      },
      "source": [
        "\n",
        "\n",
        "class Attributes(FloatProblem):\n",
        "\n",
        "    # order: Hp, Atk, Def\n",
        "\n",
        "    def __init__(self, desiredWinRatio: float, monster: list, lower_bound: list, upper_bound: list):\n",
        "        super(Attributes, self).__init__()\n",
        "        self.desiredWinRatio = desiredWinRatio\n",
        "        self.monster = monster\n",
        "\n",
        "        self.lower_bound = lower_bound\n",
        "        self.upper_bound = upper_bound\n",
        "\n",
        "        self.number_of_objectives = 1\n",
        "        self.number_of_variables = 6\n",
        "        self.number_of_constraints = 0\n",
        "\n",
        "        self.first_solutions = 0\n",
        "\n",
        "    def evaluate(self, solution: FloatSolution) -> FloatSolution:\n",
        "        simWinRatio = SimulateBattles(solution.variables, self.monster, 10000)\n",
        "        solution.objectives[0] = abs(simWinRatio - self.desiredWinRatio) if (simWinRatio != 0.0 and simWinRatio != 1.0) else 1.0\n",
        "        return solution\n",
        "\n",
        "    def create_solution(self) -> FloatSolution:\n",
        "        \n",
        "        new_solution = FloatSolution(\n",
        "            self.lower_bound,\n",
        "            self.upper_bound,\n",
        "            self.number_of_objectives,\n",
        "            self.number_of_constraints)\n",
        "        \n",
        "        if (self.first_solutions > 0):\n",
        "            new_solution.variables = self.monster\n",
        "            self.first_solutions -= 1\n",
        "        else:\n",
        "            new_solution.variables = \\\n",
        "                [int(random.uniform(self.lower_bound[i] * 1.0, self.upper_bound[i] * 1.0))\n",
        "                for i in range(self.number_of_variables)]\n",
        "\n",
        "        return new_solution\n",
        "\n",
        "    def get_name(self) -> str:\n",
        "        return 'Attributes'"
      ],
      "execution_count": 5,
      "outputs": []
    },
    {
      "cell_type": "markdown",
      "metadata": {
        "id": "pgxabLVM42XM"
      },
      "source": [
        "Solve the problem"
      ]
    },
    {
      "cell_type": "code",
      "metadata": {
        "id": "OQzJ1LSoyM2K"
      },
      "source": [
        "listMonsters = [[100,20,35,0,0,0], [987, 79, 57,5,1,2], [1996, 103, 100,10,2,4], [2800, 158, 170,12,4,6], [4155, 200, 200,15,6,9], [4700, 272, 262 ,23,7,10], [5153, 317, 320,31,10,13], [6239, 379, 430,45,13,16], [7356, 478, 503,50,15,20], [8980, 578, 600,64,18,27], [9999,999,999, 99, 99, 99]]"
      ],
      "execution_count": 6,
      "outputs": []
    },
    {
      "cell_type": "code",
      "metadata": {
        "id": "dFKJNn-_zf7S",
        "colab": {
          "base_uri": "https://localhost:8080/"
        },
        "outputId": "5d278c82-df40-4907-9812-a40634f6ebb9"
      },
      "source": [
        "from jmetal.algorithm.singleobjective.genetic_algorithm import GeneticAlgorithm\n",
        "from jmetal.operator import BinaryTournamentSelection, PolynomialMutation, SBXCrossover\n",
        "from jmetal.problem.singleobjective.unconstrained import Rastrigin\n",
        "from jmetal.util.termination_criterion import StoppingByEvaluations, StoppingByQualityIndicator\n",
        "from jmetal.core.operator import Mutation, Crossover, Selection\n",
        "\n",
        "\n",
        "if __name__ == '__main__':\n",
        "    time = 0\n",
        "    first = True\n",
        "    listSolutions = [[0,0,0,0,0,0]]\n",
        "    for index in range(0,len(listMonsters)-1):\n",
        "      constrain = constraints(listMonsters[index],listMonsters[index+1], listSolutions[index], first)\n",
        "      print(constrain)\n",
        "      problem = Attributes(0.8, monster=listMonsters[index], lower_bound=constrain[0], upper_bound= constrain[1])\n",
        "      algorithm = GeneticAlgorithm(\n",
        "          problem=problem,\n",
        "          population_size=100,\n",
        "          offspring_population_size=100,\n",
        "          mutation=PolynomialMutation(1.0/problem.number_of_variables, 20.0),\n",
        "          crossover=SBXCrossover(0.9, 20.0),\n",
        "          selection=BinaryTournamentSelection(),\n",
        "          #termination_criterion=StoppingByEvaluations(max_evaluations=30000)\n",
        "          termination_criterion=StoppingByQualityIndicator(quality_indicator = FitnessObjective(is_minimization = True), expected_value = 0.05, degree = 1),\n",
        "      )\n",
        "\n",
        "      algorithm.run()\n",
        "      result = algorithm.get_result()\n",
        "      print('Solution: {}'.format(result.variables))\n",
        "      listSolutions.append(result.variables)\n",
        "      time += algorithm.total_computing_time\n",
        "      first = False"
      ],
      "execution_count": null,
      "outputs": [
        {
          "output_type": "stream",
          "text": [
            "[[50, 11, 17, 0, 0, 0], [987, 79, 157, 5, 1, 2]]\n"
          ],
          "name": "stdout"
        }
      ]
    },
    {
      "cell_type": "code",
      "metadata": {
        "id": "yjRNDmID_GCG"
      },
      "source": [
        "print(time)"
      ],
      "execution_count": null,
      "outputs": []
    },
    {
      "cell_type": "code",
      "metadata": {
        "id": "K1uJGq8c_Hmp"
      },
      "source": [
        "print(listSolutions)"
      ],
      "execution_count": null,
      "outputs": []
    },
    {
      "cell_type": "code",
      "metadata": {
        "id": "bYEc3s5r_JaR"
      },
      "source": [
        "playersNv = [[96.95175039829985, 31.908099267330165, 17.059027224501023, 0, 0, 0], [1338, 88.89445122785052, 18, 6.249553066996842, 1, 3], [1532, 92.2536064448443, 149, 10, 1, 5.036941306292804], [2075, 180, 199, 14, 3, 8], [3356.475724916584, 237.0118308942317, 232.47968430878973, 15, 5, 9], [3708, 262, 376, 27, 8, 9], [4843.035907026777, 283.7888729247261, 444, 39.076483381612135, 8.971355650573702, 12.009550992996797], [6768.4915278055305, 355, 513.8124408933611, 47.11817316891198, 14.01974183818226, 15.066327076320166], [6835.814217503189, 509.0071264893897, 625, 52.31844931780542, 14.071218451948251, 16], [7277.579085657899, 609, 628, 69, 38, 35.62439797650703]]\n",
        "listMonsters = [[100,20,35,0,0,0], [987, 79, 57,5,1,2], [1996, 103, 100,10,2,4], [2800, 158, 170,12,4,6], [4155, 200, 200,15,6,9], [4700, 272, 262 ,23,7,10], [5153, 317, 320,31,10,13], [6239, 379, 430,45,13,16], [7356, 478, 503,50,15,20], [8980, 578, 600,64,18,27]]\n",
        "\n",
        "playersNvInt = [[64, 41, 22, 1, 0, 0], [1722, 58, 64, 9, 0, 1], [2268, 118, 81, 10, 2, 3], [2673, 135, 238, 10, 4, 4], [4652, 185, 242, 22, 6, 6], [5015, 313, 244, 24, 9, 10], [5869, 340, 338, 31, 9, 12], [6059, 404, 510, 43, 11, 12], [8192, 457, 611, 49, 15, 24], [8770, 520, 722, 84, 27, 43]]\n",
        "\n",
        "for a in range(0, len(playersNv)):\n",
        "  print(SimulateBattles(playersNvInt[a], listMonsters[a], 10000))"
      ],
      "execution_count": null,
      "outputs": []
    }
  ]
}